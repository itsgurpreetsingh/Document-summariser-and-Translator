{
  "nbformat": 4,
  "nbformat_minor": 0,
  "metadata": {
    "colab": {
      "provenance": []
    },
    "kernelspec": {
      "name": "python3",
      "display_name": "Python 3"
    },
    "language_info": {
      "name": "python"
    },
    "widgets": {
      "application/vnd.jupyter.widget-state+json": {
        "8a1a4b7e746e4c9f851237536f5780a6": {
          "model_module": "@jupyter-widgets/controls",
          "model_name": "HBoxModel",
          "model_module_version": "1.5.0",
          "state": {
            "_dom_classes": [],
            "_model_module": "@jupyter-widgets/controls",
            "_model_module_version": "1.5.0",
            "_model_name": "HBoxModel",
            "_view_count": null,
            "_view_module": "@jupyter-widgets/controls",
            "_view_module_version": "1.5.0",
            "_view_name": "HBoxView",
            "box_style": "",
            "children": [
              "IPY_MODEL_8b77b0f5693749a589feff38b2b3cd28",
              "IPY_MODEL_4be60ae3dfd541f29928901decddd0fe",
              "IPY_MODEL_f262a213d9c146d4a81a5d5468b5d55f"
            ],
            "layout": "IPY_MODEL_a43439b66bbb496192551ccfb94aa795"
          }
        },
        "8b77b0f5693749a589feff38b2b3cd28": {
          "model_module": "@jupyter-widgets/controls",
          "model_name": "HTMLModel",
          "model_module_version": "1.5.0",
          "state": {
            "_dom_classes": [],
            "_model_module": "@jupyter-widgets/controls",
            "_model_module_version": "1.5.0",
            "_model_name": "HTMLModel",
            "_view_count": null,
            "_view_module": "@jupyter-widgets/controls",
            "_view_module_version": "1.5.0",
            "_view_name": "HTMLView",
            "description": "",
            "description_tooltip": null,
            "layout": "IPY_MODEL_8194bdbf4ed744888895fe1702aaefcc",
            "placeholder": "​",
            "style": "IPY_MODEL_750143ec8f0b4a358bc2a01dad448882",
            "value": "Generating outputs: 100%"
          }
        },
        "4be60ae3dfd541f29928901decddd0fe": {
          "model_module": "@jupyter-widgets/controls",
          "model_name": "FloatProgressModel",
          "model_module_version": "1.5.0",
          "state": {
            "_dom_classes": [],
            "_model_module": "@jupyter-widgets/controls",
            "_model_module_version": "1.5.0",
            "_model_name": "FloatProgressModel",
            "_view_count": null,
            "_view_module": "@jupyter-widgets/controls",
            "_view_module_version": "1.5.0",
            "_view_name": "ProgressView",
            "bar_style": "success",
            "description": "",
            "description_tooltip": null,
            "layout": "IPY_MODEL_3b1a4fa584fd461d8f267174e07a75b3",
            "max": 1,
            "min": 0,
            "orientation": "horizontal",
            "style": "IPY_MODEL_25fbab97e987454aac51ed72388fdc0b",
            "value": 1
          }
        },
        "f262a213d9c146d4a81a5d5468b5d55f": {
          "model_module": "@jupyter-widgets/controls",
          "model_name": "HTMLModel",
          "model_module_version": "1.5.0",
          "state": {
            "_dom_classes": [],
            "_model_module": "@jupyter-widgets/controls",
            "_model_module_version": "1.5.0",
            "_model_name": "HTMLModel",
            "_view_count": null,
            "_view_module": "@jupyter-widgets/controls",
            "_view_module_version": "1.5.0",
            "_view_name": "HTMLView",
            "description": "",
            "description_tooltip": null,
            "layout": "IPY_MODEL_1ae4476ec6704dc9b4da921236a0eaa6",
            "placeholder": "​",
            "style": "IPY_MODEL_41209a1e4bc245d2b5f6d57f0a1d0591",
            "value": " 1/1 [00:04&lt;00:00,  4.63s/it]"
          }
        },
        "a43439b66bbb496192551ccfb94aa795": {
          "model_module": "@jupyter-widgets/base",
          "model_name": "LayoutModel",
          "model_module_version": "1.2.0",
          "state": {
            "_model_module": "@jupyter-widgets/base",
            "_model_module_version": "1.2.0",
            "_model_name": "LayoutModel",
            "_view_count": null,
            "_view_module": "@jupyter-widgets/base",
            "_view_module_version": "1.2.0",
            "_view_name": "LayoutView",
            "align_content": null,
            "align_items": null,
            "align_self": null,
            "border": null,
            "bottom": null,
            "display": null,
            "flex": null,
            "flex_flow": null,
            "grid_area": null,
            "grid_auto_columns": null,
            "grid_auto_flow": null,
            "grid_auto_rows": null,
            "grid_column": null,
            "grid_gap": null,
            "grid_row": null,
            "grid_template_areas": null,
            "grid_template_columns": null,
            "grid_template_rows": null,
            "height": null,
            "justify_content": null,
            "justify_items": null,
            "left": null,
            "margin": null,
            "max_height": null,
            "max_width": null,
            "min_height": null,
            "min_width": null,
            "object_fit": null,
            "object_position": null,
            "order": null,
            "overflow": null,
            "overflow_x": null,
            "overflow_y": null,
            "padding": null,
            "right": null,
            "top": null,
            "visibility": null,
            "width": null
          }
        },
        "8194bdbf4ed744888895fe1702aaefcc": {
          "model_module": "@jupyter-widgets/base",
          "model_name": "LayoutModel",
          "model_module_version": "1.2.0",
          "state": {
            "_model_module": "@jupyter-widgets/base",
            "_model_module_version": "1.2.0",
            "_model_name": "LayoutModel",
            "_view_count": null,
            "_view_module": "@jupyter-widgets/base",
            "_view_module_version": "1.2.0",
            "_view_name": "LayoutView",
            "align_content": null,
            "align_items": null,
            "align_self": null,
            "border": null,
            "bottom": null,
            "display": null,
            "flex": null,
            "flex_flow": null,
            "grid_area": null,
            "grid_auto_columns": null,
            "grid_auto_flow": null,
            "grid_auto_rows": null,
            "grid_column": null,
            "grid_gap": null,
            "grid_row": null,
            "grid_template_areas": null,
            "grid_template_columns": null,
            "grid_template_rows": null,
            "height": null,
            "justify_content": null,
            "justify_items": null,
            "left": null,
            "margin": null,
            "max_height": null,
            "max_width": null,
            "min_height": null,
            "min_width": null,
            "object_fit": null,
            "object_position": null,
            "order": null,
            "overflow": null,
            "overflow_x": null,
            "overflow_y": null,
            "padding": null,
            "right": null,
            "top": null,
            "visibility": null,
            "width": null
          }
        },
        "750143ec8f0b4a358bc2a01dad448882": {
          "model_module": "@jupyter-widgets/controls",
          "model_name": "DescriptionStyleModel",
          "model_module_version": "1.5.0",
          "state": {
            "_model_module": "@jupyter-widgets/controls",
            "_model_module_version": "1.5.0",
            "_model_name": "DescriptionStyleModel",
            "_view_count": null,
            "_view_module": "@jupyter-widgets/base",
            "_view_module_version": "1.2.0",
            "_view_name": "StyleView",
            "description_width": ""
          }
        },
        "3b1a4fa584fd461d8f267174e07a75b3": {
          "model_module": "@jupyter-widgets/base",
          "model_name": "LayoutModel",
          "model_module_version": "1.2.0",
          "state": {
            "_model_module": "@jupyter-widgets/base",
            "_model_module_version": "1.2.0",
            "_model_name": "LayoutModel",
            "_view_count": null,
            "_view_module": "@jupyter-widgets/base",
            "_view_module_version": "1.2.0",
            "_view_name": "LayoutView",
            "align_content": null,
            "align_items": null,
            "align_self": null,
            "border": null,
            "bottom": null,
            "display": null,
            "flex": null,
            "flex_flow": null,
            "grid_area": null,
            "grid_auto_columns": null,
            "grid_auto_flow": null,
            "grid_auto_rows": null,
            "grid_column": null,
            "grid_gap": null,
            "grid_row": null,
            "grid_template_areas": null,
            "grid_template_columns": null,
            "grid_template_rows": null,
            "height": null,
            "justify_content": null,
            "justify_items": null,
            "left": null,
            "margin": null,
            "max_height": null,
            "max_width": null,
            "min_height": null,
            "min_width": null,
            "object_fit": null,
            "object_position": null,
            "order": null,
            "overflow": null,
            "overflow_x": null,
            "overflow_y": null,
            "padding": null,
            "right": null,
            "top": null,
            "visibility": null,
            "width": null
          }
        },
        "25fbab97e987454aac51ed72388fdc0b": {
          "model_module": "@jupyter-widgets/controls",
          "model_name": "ProgressStyleModel",
          "model_module_version": "1.5.0",
          "state": {
            "_model_module": "@jupyter-widgets/controls",
            "_model_module_version": "1.5.0",
            "_model_name": "ProgressStyleModel",
            "_view_count": null,
            "_view_module": "@jupyter-widgets/base",
            "_view_module_version": "1.2.0",
            "_view_name": "StyleView",
            "bar_color": null,
            "description_width": ""
          }
        },
        "1ae4476ec6704dc9b4da921236a0eaa6": {
          "model_module": "@jupyter-widgets/base",
          "model_name": "LayoutModel",
          "model_module_version": "1.2.0",
          "state": {
            "_model_module": "@jupyter-widgets/base",
            "_model_module_version": "1.2.0",
            "_model_name": "LayoutModel",
            "_view_count": null,
            "_view_module": "@jupyter-widgets/base",
            "_view_module_version": "1.2.0",
            "_view_name": "LayoutView",
            "align_content": null,
            "align_items": null,
            "align_self": null,
            "border": null,
            "bottom": null,
            "display": null,
            "flex": null,
            "flex_flow": null,
            "grid_area": null,
            "grid_auto_columns": null,
            "grid_auto_flow": null,
            "grid_auto_rows": null,
            "grid_column": null,
            "grid_gap": null,
            "grid_row": null,
            "grid_template_areas": null,
            "grid_template_columns": null,
            "grid_template_rows": null,
            "height": null,
            "justify_content": null,
            "justify_items": null,
            "left": null,
            "margin": null,
            "max_height": null,
            "max_width": null,
            "min_height": null,
            "min_width": null,
            "object_fit": null,
            "object_position": null,
            "order": null,
            "overflow": null,
            "overflow_x": null,
            "overflow_y": null,
            "padding": null,
            "right": null,
            "top": null,
            "visibility": null,
            "width": null
          }
        },
        "41209a1e4bc245d2b5f6d57f0a1d0591": {
          "model_module": "@jupyter-widgets/controls",
          "model_name": "DescriptionStyleModel",
          "model_module_version": "1.5.0",
          "state": {
            "_model_module": "@jupyter-widgets/controls",
            "_model_module_version": "1.5.0",
            "_model_name": "DescriptionStyleModel",
            "_view_count": null,
            "_view_module": "@jupyter-widgets/base",
            "_view_module_version": "1.2.0",
            "_view_name": "StyleView",
            "description_width": ""
          }
        }
      }
    }
  },
  "cells": [
    {
      "cell_type": "code",
      "source": [
        "pip install datasets"
      ],
      "metadata": {
        "id": "2vz6GGeVGpvG"
      },
      "execution_count": null,
      "outputs": []
    },
    {
      "cell_type": "code",
      "source": [
        "pip install transformers"
      ],
      "metadata": {
        "id": "hFJ1VNRgx4v0"
      },
      "execution_count": null,
      "outputs": []
    },
    {
      "cell_type": "code",
      "source": [
        "pip install simpletransformers"
      ],
      "metadata": {
        "id": "_5gGazoS7Eqe"
      },
      "execution_count": null,
      "outputs": []
    },
    {
      "cell_type": "code",
      "source": [
        "pip install translate"
      ],
      "metadata": {
        "id": "3872gm0rx6Ll"
      },
      "execution_count": null,
      "outputs": []
    },
    {
      "cell_type": "code",
      "source": [
        "import pandas as pd\n",
        "import numpy as np\n",
        "from simpletransformers.seq2seq import Seq2SeqModel,Seq2SeqArgs\n",
        "from sklearn.model_selection import train_test_split"
      ],
      "metadata": {
        "id": "HCWLrYgCGoSv"
      },
      "execution_count": null,
      "outputs": []
    },
    {
      "cell_type": "code",
      "source": [
        "from datasets import load_dataset\n",
        "raw_datasets = load_dataset(\"xsum\", split=\"train\")"
      ],
      "metadata": {
        "id": "IcwCNPBsGps3"
      },
      "execution_count": null,
      "outputs": []
    },
    {
      "cell_type": "code",
      "source": [
        "article=raw_datasets[\"document\"]\n",
        "summary=raw_datasets[\"summary\"]\n",
        "dataset=pd.DataFrame(article,columns=['article'])"
      ],
      "metadata": {
        "id": "ilwBfM_2GpDE"
      },
      "execution_count": null,
      "outputs": []
    },
    {
      "cell_type": "code",
      "source": [
        "dataset['summary']=summary"
      ],
      "metadata": {
        "id": "KPluSmG_M1SM"
      },
      "execution_count": null,
      "outputs": []
    },
    {
      "cell_type": "code",
      "source": [
        "dataset"
      ],
      "metadata": {
        "id": "gtnDhtuaM3Df"
      },
      "execution_count": null,
      "outputs": []
    },
    {
      "cell_type": "code",
      "source": [
        "X_train, X_test, y_train, y_test = train_test_split(article, summary, test_size=0.33)"
      ],
      "metadata": {
        "id": "4wWzIhmaN341"
      },
      "execution_count": null,
      "outputs": []
    },
    {
      "cell_type": "code",
      "source": [],
      "metadata": {
        "id": "t8qrBz5kmEMT"
      },
      "execution_count": null,
      "outputs": []
    },
    {
      "cell_type": "code",
      "source": [
        "y_train"
      ],
      "metadata": {
        "id": "-eKS0tK5OP4h"
      },
      "execution_count": null,
      "outputs": []
    },
    {
      "cell_type": "code",
      "source": [
        "X_train, X_test, y_train, y_test = train_test_split(X_test, y_test, test_size=0.50)"
      ],
      "metadata": {
        "id": "qcNBxPyctslM"
      },
      "execution_count": null,
      "outputs": []
    },
    {
      "cell_type": "code",
      "source": [],
      "metadata": {
        "id": "QOWUD4mM04Kz"
      },
      "execution_count": null,
      "outputs": []
    },
    {
      "cell_type": "code",
      "source": [
        "ARTICLE = \"\"\" In addition, the materials on this site may include sample or form agreements, letters or other documents, safety \n",
        "program regulatory plans, trainings, or documents, including but not limited to financially or legally significant \n",
        "documents such as contracts and other items (“Forms”). These Forms are provided solely as examples of typical \n",
        "documents or programs of their kind, and the delivery and use of Forms does not constitute legal, regulatory,\n",
        "accounting or other professional advice. Under no circumstances will Safety Forward Inc or its Affiliates be liable for \n",
        "any loss or damages caused by your reliance on information or advice obtained through this site, including your use \n",
        "of any of the Forms. It is your responsibility to evaluate the accuracy, completeness, or usefulness of any information, \n",
        "opinions, advice, Forms or other content available on or through this site. In particular, you are urged to consult an \n",
        "appropriate professional licensed in your jurisdiction before using any Forms or otherwise relying on any legal, \n",
        "accounting, regulatory, or other professional advice or information obtained on or through this site. \n",
        "Finally, you should be advised that advice, graphics, images and information contained in videos uploaded into the \n",
        "Services are presented for general educational and informational purposes regarding overall safety awareness. These \n",
        "videos are not intended to be legal, occupation, regulatory, or other expert advice or services, and should not be used \n",
        "in place of consultation with appropriate professionals. The information contained in these videos should not be \n",
        "considered exhaustive and the user should seek the advice of appropriate professionals. These videos also cannot \n",
        "address every potential hazard or situation that a user may encounter, and these videos are general in nature. Safety \n",
        "Forward Inc does not warrant the accuracy of any information or advice contained in these videos and shall not be \n",
        "liable for any loss, damage or expenses whatsoever suffered by any person who relies on or uses such information and \n",
        "advice.\n",
        "SOME STATES OR JURISDICTIONS DO NOT ALLOW THE EXCLUSION OF CERTAIN WARRANTIES, SO \n",
        "SOME OF THE ABOVE LIMITATIONS MAY NOT APPLY TO YOU.\n",
        "10. Limitation of Liability\n",
        "Your exclusive remedy and our, and our Affiliates’, entire liability, if any, for any claims arising out of these Terms \n",
        "of Use and your use of this site shall be limited to the amount you paid us for the services on the site during the 12-\n",
        "month period before the act giving rise to the liability.\n",
        "IN NO EVENT SHALL WE OR OUR AFFILIATES BE LIABLE TO YOU OR ANY THIRD PARTY WHETHER \n",
        "BASED ON WARRANTY, CONTRACT, TORT, OR ANY OTHER LEGAL THEORY, FOR ANY SPECIAL, \n",
        "PUNITIVE, INCIDENTAL, INDIRECT OR CONSEQUENTIAL DAMAGES OF ANY KIND, OR ANY \n",
        "DAMAGES WHATSOEVER, INCLUDING, WITHOUT LIMITATION, THOSE RESULTING FROM LOSS OF \n",
        "USE, DATA OR PROFITS, PERSONAL INJURY, OR WRONGFUL DEATH, WHETHER OR NOT WE HAVE \n",
        "BEEN ADVISED OF THE POSSIBILITY OF SUCH DAMAGES, AND ON ANY THEORY OF LIABILITY, \n",
        "ARISING OUT OF OR IN CONNECTION WITH THE USE OF THIS SITE, INFORMATION ACCESSIBLE \n",
        "FROM THE SITE, OR OF ANY WEB SITE REFERENCED OR LINKED TO FROM THIS SITE.\n",
        "FURTHER, WE SHALL NOT BE LIABLE IN ANY WAY FOR THIRD PARTY GOODS AND SERVICES \n",
        "OFFERED THROUGH THIS SITE OR FOR ASSISTANCE IN CONDUCTING COMMERCIAL \n",
        "TRANSACTIONS THROUGH THIS SITE, INCLUDING WITHOUT LIMITATION THE PROCESSING OF \n",
        "ORDERS.\n",
        "SOME JURISDICTIONS PROHIBIT THE EXCLUSION OR LIMITATION OF LIABILITY FOR \n",
        "CONSEQUENTIAL OR INCIDENTAL DAMAGES, SO THE ABOVE LIMITATIONS MAY NOT APPLY TO\n",
        "\"\"\""
      ],
      "metadata": {
        "id": "MnhYqN-a-Ao5"
      },
      "execution_count": null,
      "outputs": []
    },
    {
      "cell_type": "code",
      "source": [],
      "metadata": {
        "id": "wGw6khrfyyyf"
      },
      "execution_count": null,
      "outputs": []
    },
    {
      "cell_type": "code",
      "source": [],
      "metadata": {
        "id": "2IJn9osJy16-"
      },
      "execution_count": null,
      "outputs": []
    },
    {
      "cell_type": "code",
      "source": [
        "model_args = Seq2SeqArgs()\n",
        "model_args.num_train_epochs = 10\n",
        "model_args.no_save = True\n",
        "model_args.evaluate_generated_text = True\n",
        "model_args.evaluate_during_training = True\n",
        "model_args.evaluate_during_training_verbose = True\n",
        "model_args.overwrite_output_dir = True\n",
        "\n",
        "# Initialize model\n",
        "model = Seq2SeqModel(\n",
        "    encoder_decoder_type=\"bart\",\n",
        "    encoder_decoder_name=\"facebook/bart-large\",\n",
        "    args=model_args,\n",
        "    use_cuda=False,\n",
        ")"
      ],
      "metadata": {
        "id": "hf-D9Pbf0FRr"
      },
      "execution_count": null,
      "outputs": []
    },
    {
      "cell_type": "code",
      "source": [
        "train_df = pd.DataFrame(\n",
        "    X_train, columns=[\"input_text\"]\n",
        ")\n",
        "train_df['target_text']=y_train"
      ],
      "metadata": {
        "id": "ex7eg1xv0GQh"
      },
      "execution_count": null,
      "outputs": []
    },
    {
      "cell_type": "code",
      "source": [
        "eval_df = pd.DataFrame(X_test, columns=[\"input_text\"])\n",
        "eval_df['target_text']=y_test"
      ],
      "metadata": {
        "id": "fNpxcZcu0JBw"
      },
      "execution_count": null,
      "outputs": []
    },
    {
      "cell_type": "code",
      "source": [
        "train_df"
      ],
      "metadata": {
        "id": "Way-zMMW0L94"
      },
      "execution_count": null,
      "outputs": []
    },
    {
      "cell_type": "code",
      "source": [
        "eval_df"
      ],
      "metadata": {
        "id": "vuIVME330RUx"
      },
      "execution_count": null,
      "outputs": []
    },
    {
      "cell_type": "code",
      "source": [],
      "metadata": {
        "id": "WpzEirQm0ZF8"
      },
      "execution_count": null,
      "outputs": []
    },
    {
      "cell_type": "code",
      "source": [
        "model.train_model(train_df, eval_data=eval_df)"
      ],
      "metadata": {
        "id": "MXYtAe710bVR"
      },
      "execution_count": null,
      "outputs": []
    },
    {
      "cell_type": "code",
      "source": [
        "val=model.predict(\n",
        "        [\n",
        "            ARTICLE\n",
        "        ]\n",
        "    )\n",
        "\n"
      ],
      "metadata": {
        "id": "PyAGTaFV0lyT",
        "colab": {
          "base_uri": "https://localhost:8080/",
          "height": 49,
          "referenced_widgets": [
            "8a1a4b7e746e4c9f851237536f5780a6",
            "8b77b0f5693749a589feff38b2b3cd28",
            "4be60ae3dfd541f29928901decddd0fe",
            "f262a213d9c146d4a81a5d5468b5d55f",
            "a43439b66bbb496192551ccfb94aa795",
            "8194bdbf4ed744888895fe1702aaefcc",
            "750143ec8f0b4a358bc2a01dad448882",
            "3b1a4fa584fd461d8f267174e07a75b3",
            "25fbab97e987454aac51ed72388fdc0b",
            "1ae4476ec6704dc9b4da921236a0eaa6",
            "41209a1e4bc245d2b5f6d57f0a1d0591"
          ]
        },
        "outputId": "f96fb87e-d3a0-40c1-c61c-52af23622101"
      },
      "execution_count": null,
      "outputs": [
        {
          "output_type": "display_data",
          "data": {
            "text/plain": [
              "Generating outputs:   0%|          | 0/1 [00:00<?, ?it/s]"
            ],
            "application/vnd.jupyter.widget-view+json": {
              "version_major": 2,
              "version_minor": 0,
              "model_id": "8a1a4b7e746e4c9f851237536f5780a6"
            }
          },
          "metadata": {}
        }
      ]
    },
    {
      "cell_type": "code",
      "source": [
        "ARTICLE"
      ],
      "metadata": {
        "id": "zUSeGhEe8MXr"
      },
      "execution_count": null,
      "outputs": []
    },
    {
      "cell_type": "code",
      "source": [
        "def my_function(sentence): \n",
        "   from translate import Translator\n",
        "   say_lang='en'\n",
        "   convert_lang='pa-IN'\n",
        "   translator=Translator(from_lang =say_lang,to_lang=convert_lang)\n",
        "   translation=translator.translate(sentence)\n",
        "   return translation"
      ],
      "metadata": {
        "id": "amg_8GGLyFau"
      },
      "execution_count": null,
      "outputs": []
    },
    {
      "cell_type": "code",
      "source": [
        "value=val[0]"
      ],
      "metadata": {
        "id": "QsxjT4l0ypll"
      },
      "execution_count": null,
      "outputs": []
    },
    {
      "cell_type": "code",
      "source": [
        "value\n",
        "for i in value:\n",
        "# Replace the special character with an empty string\n",
        "   if i.isalpha()==False:\n",
        "     normal_string=i.replace(i,\"\")\n",
        "# Print the string after removal of special characters\n",
        "print(\"string after conversion:\",value)"
      ],
      "metadata": {
        "colab": {
          "base_uri": "https://localhost:8080/"
        },
        "id": "DtsLHbnjyqG5",
        "outputId": "03e979f8-11d1-43e3-eeab-28461ffa4e43"
      },
      "execution_count": null,
      "outputs": [
        {
          "output_type": "stream",
          "name": "stdout",
          "text": [
            "string after conversion: This site may contain information about safety programs and programs. In addition, the\n"
          ]
        }
      ]
    },
    {
      "cell_type": "code",
      "source": [
        "punjabi=my_function(value)"
      ],
      "metadata": {
        "id": "0Kdb4UXbytcc"
      },
      "execution_count": null,
      "outputs": []
    },
    {
      "cell_type": "code",
      "source": [
        "punjabi"
      ],
      "metadata": {
        "colab": {
          "base_uri": "https://localhost:8080/",
          "height": 53
        },
        "id": "LwayiEt8yuB8",
        "outputId": "56fc3335-3718-43e2-e821-dab847fae49c"
      },
      "execution_count": null,
      "outputs": [
        {
          "output_type": "execute_result",
          "data": {
            "text/plain": [
              "'ਸੇਫਟੀ ਫਾਰਵਰਡ ਇੰਕ. ਇਹਨਾਂ ਵੀਡੀਓ ਵਿਚਲੀ ਕਿਸੇ ਵੀ ਜਾਣਕਾਰੀ ਜਾਂ ਸਲਾਹ ਦੀ ਸਟੀਕਤਾ ਦੀ ਵਾਰੰਟੀ ਨਹੀਂ ਦਿੰਦਾ ਹੈ। ਇਹ ਵੀਡੀਓ ਕਨੂੰਨੀ, ਕਿੱਤਾਕਾਰੀ, ਅਧਿਨਿਯਮਕ, ਜਾਂ ਹੋਰ ਮਾਹਰ ਸਲਾਹ ਜਾਂ ਸੇਵਾਵਾਂ ਹੋਣ ਵਾਸਤੇ ਨਹੀਂ ਹਨ। ਸੇਫਟੀ ਫਾਰਵਰਡ ਇੰਕ ਕਿਸੇ ਵੀ ਨੁਕਸਾਨ, ਨੁਕਸਾਨ ਜਾਂ ਖਰਚਿਆਂ ਲਈ ਜ਼ੁੰਮੇਵਾਰ ਨਹੀਂ ਹੈ ਜੋ ਵੀ ਹੋਏ ਹਨ।'"
            ],
            "application/vnd.google.colaboratory.intrinsic+json": {
              "type": "string"
            }
          },
          "metadata": {},
          "execution_count": 40
        }
      ]
    }
  ]
}